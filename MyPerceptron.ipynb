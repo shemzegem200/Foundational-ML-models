{
  "nbformat": 4,
  "nbformat_minor": 0,
  "metadata": {
    "colab": {
      "provenance": []
    },
    "kernelspec": {
      "name": "python3",
      "display_name": "Python 3"
    },
    "language_info": {
      "name": "python"
    }
  },
  "cells": [
    {
      "cell_type": "code",
      "execution_count": 1,
      "metadata": {
        "id": "qe8GHiqiW6Oq"
      },
      "outputs": [],
      "source": [
        "from sklearn.datasets import load_iris\n",
        "# Load a multiclass dataset\n",
        "data = load_iris()\n",
        "X = data.data\n",
        "Y = data.target"
      ]
    },
    {
      "cell_type": "code",
      "source": [
        "from sklearn.model_selection import train_test_split\n",
        "X_train, X_test, Y_train, Y_test = train_test_split(X, Y, test_size=0.25, random_state=42)\n",
        "print(X_train.shape)\n",
        "print(Y_train.shape)\n",
        "print(X_test.shape)\n",
        "print(Y_test.shape)"
      ],
      "metadata": {
        "colab": {
          "base_uri": "https://localhost:8080/"
        },
        "id": "1BImQp_2bifK",
        "outputId": "fdd15199-e3bd-4e94-8105-dca7d1bfe6f0"
      },
      "execution_count": 2,
      "outputs": [
        {
          "output_type": "stream",
          "name": "stdout",
          "text": [
            "(112, 4)\n",
            "(112,)\n",
            "(38, 4)\n",
            "(38,)\n"
          ]
        }
      ]
    },
    {
      "cell_type": "code",
      "source": [
        "import numpy as np\n",
        "\n",
        "class MyMultiClassPerceptron:\n",
        "  def __init__(self, n_features, n_classes, lr=0.01, epochs=100):\n",
        "    self.n_classes = n_classes\n",
        "    self.lr = lr\n",
        "    self.epochs = epochs\n",
        "    self.weights = np.random.randn(n_classes, n_features) * 0.01\n",
        "    self.biases = np.random.randn(n_classes) * 0.01\n",
        "\n",
        "  def fit(self, X, Y):\n",
        "    errors= []\n",
        "    for epoch in range(self.epochs):\n",
        "      #error for each epoch\n",
        "      total_error = 0\n",
        "\n",
        "      #iterate through the input dataset\n",
        "      for i in range(X.shape[0]):\n",
        "        scores = np.dot(self.weights, X[i]) + self.biases\n",
        "        predicted_class = np.argmax(scores)\n",
        "        actual_class = Y[i]\n",
        "        #compare actual and predicted class\n",
        "        if predicted_class != actual_class:\n",
        "          total_error += 1\n",
        "          #improve weights for actual class\n",
        "          self.weights[actual_class] += self.lr * X[i]\n",
        "          self.biases[actual_class] += self.lr\n",
        "          #worsen weights for wrongly predicted class\n",
        "          self.weights[predicted_class] -= self.lr * X[i]\n",
        "          self.biases[predicted_class] -= self.lr\n",
        "      errors.append(total_error)\n",
        "    return errors\n",
        "\n",
        "\n",
        "  def predict(self, X):\n",
        "      scores = np.dot(self.weights, X.T) + self.biases[:, np.newaxis]\n",
        "      return np.argmax(scores, axis=0)\n",
        "\n",
        "\n",
        "  def evaluate(self, Y_test, Y_pred):\n",
        "      results = np.mean(Y_pred == Y_test)\n",
        "      return results"
      ],
      "metadata": {
        "id": "uxQIPv-HbyTl"
      },
      "execution_count": 3,
      "outputs": []
    },
    {
      "cell_type": "code",
      "source": [
        "from sklearn.linear_model import Perceptron\n",
        "from sklearn.metrics import accuracy_score\n",
        "\n",
        "model1 = Perceptron(max_iter=1000, eta0=0.01, random_state=42)\n",
        "model1.fit(X_train, Y_train)\n",
        "\n",
        "# Predict and evaluate\n",
        "Y_pred1 = model1.predict(X_test)\n",
        "acc1 = accuracy_score(Y_test, Y_pred1)\n",
        "print(f\"Test Accuracy for built-in model: {acc1 * 100:.2f}%\")"
      ],
      "metadata": {
        "colab": {
          "base_uri": "https://localhost:8080/"
        },
        "id": "tSzLx9RveCXX",
        "outputId": "3c6d5ffb-f8cf-486d-9ff6-8910a6b5de25"
      },
      "execution_count": 4,
      "outputs": [
        {
          "output_type": "stream",
          "name": "stdout",
          "text": [
            "Test Accuracy for built-in model: 78.95%\n"
          ]
        }
      ]
    },
    {
      "cell_type": "code",
      "source": [
        "model2 = MyMultiClassPerceptron(n_features=X_train.shape[1], n_classes=len(np.unique(Y_train)))\n",
        "errors = model2.fit(X_train, Y_train)\n",
        "Y_pred2 = model2.predict(X_test)\n",
        "acc2 = accuracy_score(Y_test, Y_pred2)\n",
        "print(f\"Test accuracy for my model: {acc2 * 100:.2f}%\")"
      ],
      "metadata": {
        "colab": {
          "base_uri": "https://localhost:8080/"
        },
        "id": "vdrwBeGFexJS",
        "outputId": "94e3d6f5-0107-476b-999b-d6acf88f7d9b"
      },
      "execution_count": 5,
      "outputs": [
        {
          "output_type": "stream",
          "name": "stdout",
          "text": [
            "Test accuracy for my model: 97.37%\n"
          ]
        }
      ]
    }
  ]
}